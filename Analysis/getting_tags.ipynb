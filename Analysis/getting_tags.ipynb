{
 "cells": [
  {
   "cell_type": "code",
   "execution_count": 1,
   "metadata": {},
   "outputs": [],
   "source": [
    "import numpy as np\n",
    "import h5py\n",
    "from py15sacla import hdfselection"
   ]
  },
  {
   "cell_type": "markdown",
   "metadata": {},
   "source": [
    "## create test data"
   ]
  },
  {
   "cell_type": "code",
   "execution_count": 2,
   "metadata": {},
   "outputs": [],
   "source": [
    "image = np.random.rand(200, 300) - 0.5\n",
    "filenames = ['test{}.h5'.format(i) for i in range(3)]\n",
    "run = 5\n",
    "tag = 73\n",
    "\n",
    "for filename in filenames:\n",
    "    with h5py.File(filename, 'w') as h5file:\n",
    "        h5file.create_dataset('some_irrelevant_thing', data=42)\n",
    "        for _ in range(5):\n",
    "            h5file.create_dataset('run_{}/detector/tag_{}'.format(run, tag), data=image+tag)\n",
    "            tag += 1\n",
    "        h5file.close()\n",
    "        run += 1\n"
   ]
  },
  {
   "cell_type": "markdown",
   "metadata": {},
   "source": [
    "## select some tags"
   ]
  },
  {
   "cell_type": "code",
   "execution_count": 3,
   "metadata": {},
   "outputs": [],
   "source": [
    "h5sel_all = [hdfselection.HDFSelection(filename, 'r') for filename in filenames]\n",
    "tags_to_get = [\"tag_{}\".format(tag) for tag in [73, 75, 80]]\n",
    "\n",
    "def filter_tags(hdfsel, tags_to_get):\n",
    "    hdfout = hdfsel.copy()\n",
    "    hdfout._datanames = [n for n in hdfout._datanames\n",
    "                if any(d in n for d in tags_to_get)]\n",
    "    return hdfout\n",
    "\n",
    "\n",
    "h5sel_tags = [filter_tags(h5sel, tags_to_get) for h5sel in h5sel_all]\n",
    "\n",
    "images = np.array([h.value for h5sel in h5sel_tags for h in h5sel])"
   ]
  },
  {
   "cell_type": "markdown",
   "metadata": {},
   "source": [
    "## confirm this worked"
   ]
  },
  {
   "cell_type": "code",
   "execution_count": 4,
   "metadata": {},
   "outputs": [
    {
     "name": "stdout",
     "output_type": "stream",
     "text": [
      "The mean of each image is [ 73.  75.  80.]\n"
     ]
    }
   ],
   "source": [
    "print(\"The mean of each image is {}\".format(np.round(images.mean(axis=(1,2)))))"
   ]
  }
 ],
 "metadata": {
  "kernelspec": {
   "display_name": "Python 3",
   "language": "python",
   "name": "python3"
  },
  "language_info": {
   "codemirror_mode": {
    "name": "ipython",
    "version": 3
   },
   "file_extension": ".py",
   "mimetype": "text/x-python",
   "name": "python",
   "nbconvert_exporter": "python",
   "pygments_lexer": "ipython3",
   "version": "3.6.1"
  }
 },
 "nbformat": 4,
 "nbformat_minor": 2
}
